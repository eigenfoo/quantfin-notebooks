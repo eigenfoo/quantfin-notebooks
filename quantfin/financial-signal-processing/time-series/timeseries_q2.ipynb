{
 "cells": [
  {
   "cell_type": "markdown",
   "metadata": {},
   "source": [
    "# Time Series Homework Question 2"
   ]
  },
  {
   "cell_type": "code",
   "execution_count": 1,
   "metadata": {},
   "outputs": [],
   "source": [
    "import numpy as np\n",
    "import pandas as pd\n",
    "from statsmodels.regression.linear_model import OLS\n",
    "from itertools import combinations"
   ]
  },
  {
   "cell_type": "code",
   "execution_count": 2,
   "metadata": {},
   "outputs": [],
   "source": [
    "YEAR_NUM = 2000\n",
    "df = pd.read_csv(f'../portfolio-analysis/{YEAR_NUM}_data.csv', index_col=0)"
   ]
  },
  {
   "cell_type": "code",
   "execution_count": 3,
   "metadata": {},
   "outputs": [],
   "source": [
    "def is_cointegrated(x, y):\n",
    "    nonstat_threshold = 0.5\n",
    "    # Check if the autocorrelations have decayed well enough\n",
    "    lower = 200\n",
    "    upper = 210\n",
    "    corr_threshold = 0.05\n",
    "\n",
    "    w1 = OLS(x[1:].values, x[:-1].values).fit().params.item()\n",
    "    w2 = OLS(y[1:].values, y[:-1].values).fit().params.item()\n",
    "    if np.abs(w1) < nonstat_threshold or np.abs(w2) < nonstat_threshold:\n",
    "        return False\n",
    "    \n",
    "    resid = OLS(y, x).fit().resid\n",
    "    corr = np.array([resid.autocorr(lag=i) for i in range(lower, upper)])\n",
    "    if (np.abs(corr) > 0.5).any():\n",
    "        return False\n",
    "    \n",
    "    return True"
   ]
  },
  {
   "cell_type": "code",
   "execution_count": 4,
   "metadata": {},
   "outputs": [],
   "source": [
    "# It looks like nothing is cointegrated with each other!\n",
    "for data1, data2 in combinations(df.columns, 2):\n",
    "    if is_cointegrated(df.loc[:, data1], df.loc[:, data2]):\n",
    "        print(f'Cointegrated: {data1} and {data2}')"
   ]
  },
  {
   "cell_type": "code",
   "execution_count": 5,
   "metadata": {},
   "outputs": [
    {
     "name": "stdout",
     "output_type": "stream",
     "text": [
      "Able to detect cointegration!\n"
     ]
    }
   ],
   "source": [
    "# We resort to a simulation...\n",
    "# x = cumsum of Gaussian noise and y = x + noise.\n",
    "# This makes them cointegrated.\n",
    "x = pd.Series(np.random.randn(252).cumsum())\n",
    "y = x + np.random.randn(252)\n",
    "msg = 'Able to detect cointegration!' if is_cointegrated(x, y) else 'Unable to detect cointegration.'\n",
    "print(msg)"
   ]
  },
  {
   "cell_type": "code",
   "execution_count": null,
   "metadata": {},
   "outputs": [],
   "source": []
  }
 ],
 "metadata": {
  "kernelspec": {
   "display_name": "Python 3",
   "language": "python",
   "name": "python3"
  },
  "language_info": {
   "codemirror_mode": {
    "name": "ipython",
    "version": 3
   },
   "file_extension": ".py",
   "mimetype": "text/x-python",
   "name": "python",
   "nbconvert_exporter": "python",
   "pygments_lexer": "ipython3",
   "version": "3.6.7"
  }
 },
 "nbformat": 4,
 "nbformat_minor": 2
}
