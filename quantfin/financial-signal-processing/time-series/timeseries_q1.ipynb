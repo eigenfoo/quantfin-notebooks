{
 "cells": [
  {
   "cell_type": "markdown",
   "metadata": {},
   "source": [
    "# Time Series Problem Set: Question 1"
   ]
  },
  {
   "cell_type": "code",
   "execution_count": 1,
   "metadata": {},
   "outputs": [],
   "source": [
    "import numpy as np\n",
    "import pandas as pd\n",
    "from statsmodels.tsa.stattools import levinson_durbin\n",
    "from scipy.stats import kurtosis, kstat\n",
    "from scipy.special import comb"
   ]
  },
  {
   "cell_type": "code",
   "execution_count": 2,
   "metadata": {},
   "outputs": [],
   "source": [
    "# Read in data\n",
    "YEAR_NUMBER = 2000\n",
    "df = pd.read_csv(f'../portfolio-analysis/{YEAR_NUMBER}_data.csv', index_col=0)\n",
    "\n",
    "# Cut data to 250 days\n",
    "sp500 = df.SP500[:250]\n",
    "assert len(sp500) == 250"
   ]
  },
  {
   "cell_type": "markdown",
   "metadata": {},
   "source": [
    "## Part (a)"
   ]
  },
  {
   "cell_type": "code",
   "execution_count": 3,
   "metadata": {
    "scrolled": true
   },
   "outputs": [
    {
     "name": "stdout",
     "output_type": "stream",
     "text": [
      "R is positive definite.\n"
     ]
    }
   ],
   "source": [
    "M = 10\n",
    "lagged = np.vstack([sp500[i:240+i] for i in range(M + 1)]).T\n",
    "cov = np.cov(lagged.T)\n",
    "eigvals = np.linalg.eigvalsh(cov)  # Eigenvalues of a symmetric matrix\n",
    "msg = 'R is positive definite.' if (eigvals > 0).all() else 'R is NOT positive definite!'\n",
    "print(msg)"
   ]
  },
  {
   "cell_type": "markdown",
   "metadata": {},
   "source": [
    "## Part (b)\n",
    "\n",
    "If all reflection coefficients $k_m$ had magnitude less than 1, then the corresponding polynomial is stable. If all reflection coefficients above a certain order are all 0, then the corresponding system is exactly $AR$. "
   ]
  },
  {
   "cell_type": "code",
   "execution_count": 4,
   "metadata": {},
   "outputs": [
    {
     "name": "stdout",
     "output_type": "stream",
     "text": [
      "Levinson-Durbin:\n",
      "[ 1.         -0.02281734 -0.13396212 -0.08700516  0.05224546 -0.02211634\n",
      " -0.12596476 -0.05057278 -0.15646007 -0.06893532 -0.06077776]\n",
      "\n",
      "Least Squares:\n",
      "[-0.0004077  -0.04056862 -0.12891734 -0.10317117  0.0520129  -0.01242916\n",
      " -0.12603856 -0.04806614 -0.16098401 -0.07595534 -0.0628058 ]\n"
     ]
    }
   ],
   "source": [
    "# The Levinson-Durbin and least squares coefficients generally agree,\n",
    "# except for the first coefficient, which represents \\delta_{p0}.\n",
    "\n",
    "_, a_lv, _, sigma, _ = levinson_durbin(s=sp500, nlags=10)\n",
    "ar_coeff_lv = np.hstack([1, a_lv])\n",
    "ar_coeff_ls, _, _, _ = np.linalg.lstsq(np.hstack([np.ones([lagged.shape[0], 1]), lagged[:, 1:]]),\n",
    "                                       lagged[:, 0], rcond=None)\n",
    "\n",
    "print(f'Levinson-Durbin:\\n{ar_coeff_lv}\\n')\n",
    "print(f'Least Squares:\\n{ar_coeff_ls}')"
   ]
  },
  {
   "cell_type": "markdown",
   "metadata": {},
   "source": [
    "## Part (c)"
   ]
  },
  {
   "cell_type": "code",
   "execution_count": 5,
   "metadata": {},
   "outputs": [
    {
     "name": "stdout",
     "output_type": "stream",
     "text": [
      "Optimal lag value: 1\n"
     ]
    }
   ],
   "source": [
    "aic = (2/250)*np.log(sigma[1:]) + [2*i/250 for i in range(10)]\n",
    "optimal_lag = np.argmin(aic) + 1\n",
    "print(f'Optimal lag value: {optimal_lag}')"
   ]
  },
  {
   "cell_type": "markdown",
   "metadata": {},
   "source": [
    "## Part (d)"
   ]
  },
  {
   "cell_type": "code",
   "execution_count": 6,
   "metadata": {},
   "outputs": [],
   "source": [
    "sp500_diff = sp500.diff()[1:]"
   ]
  },
  {
   "cell_type": "code",
   "execution_count": 7,
   "metadata": {},
   "outputs": [
    {
     "name": "stdout",
     "output_type": "stream",
     "text": [
      "R is positive definite.\n",
      "--------------------\n",
      "Levinson-Durbin:\n",
      "[ 1.         -0.85819164 -0.82982115 -0.73263829 -0.51955483 -0.39889518\n",
      " -0.40963004 -0.34030536 -0.35560864 -0.26722563 -0.18607999]\n",
      "\n",
      "Least Squares:\n",
      "[-3.66174262e-05 -8.53382533e-01 -8.01809585e-01 -7.29542355e-01\n",
      " -4.97469393e-01 -3.66518338e-01 -3.55344234e-01 -2.33551819e-01\n",
      " -2.25345080e-01 -1.23021851e-01]\n",
      "--------------------\n",
      "Optimal lag value: 1\n"
     ]
    }
   ],
   "source": [
    "# Part (a)\n",
    "M = 10\n",
    "lagged = np.vstack([sp500_diff[i:240+i] for i in range(M)]).T\n",
    "cov = np.cov(lagged.T)\n",
    "eigvals = np.linalg.eigvalsh(cov)  # Eigenvalues of a symmetric matrix\n",
    "msg = 'R is positive definite.' if (eigvals > 0).all() else 'R is NOT positive definite!'\n",
    "print(msg)\n",
    "\n",
    "print(20*'-')\n",
    "\n",
    "# Part (b)\n",
    "_, a_lv, _, sigma, _ = levinson_durbin(s=sp500_diff, nlags=10)\n",
    "ar_coeff_lv = np.hstack([1, a_lv])\n",
    "ar_coeff_ls, _, _, _ = np.linalg.lstsq(np.hstack([np.ones([lagged.shape[0], 1]), lagged[:, 1:]]),\n",
    "                                       lagged[:, 0], rcond=None)\n",
    "\n",
    "print(f'Levinson-Durbin:\\n{ar_coeff_lv}\\n')\n",
    "print(f'Least Squares:\\n{ar_coeff_ls}')\n",
    "\n",
    "print(20*'-')\n",
    "\n",
    "# Part (c)\n",
    "aic = (2/250)*np.log(sigma[1:]) + [2*i/250 for i in range(10)]\n",
    "optimal_lag = np.argmin(aic) + 1\n",
    "print(f'Optimal lag value: {optimal_lag}')"
   ]
  },
  {
   "cell_type": "markdown",
   "metadata": {},
   "source": [
    "## Part (e)"
   ]
  },
  {
   "cell_type": "code",
   "execution_count": 8,
   "metadata": {},
   "outputs": [
    {
     "name": "stdout",
     "output_type": "stream",
     "text": [
      "Reflection coefficient: -0.43893010076607053\n",
      "Covariance coefficients: [ 0.31902029 -0.13973842 -0.07165218  0.06467166  0.00120351 -0.12638014\n",
      " -0.12899869 -0.14733625 -0.1000778  -0.03963263]\n"
     ]
    }
   ],
   "source": [
    "# For the direct model, M = 1\n",
    "\n",
    "M = 1\n",
    "lagged = np.vstack([sp500[i:250-M-1+i] for i in range(M + 1)]).T\n",
    "x = lagged[:, 1:]\n",
    "y = lagged[:, 0]\n",
    "_, ar_coeff, _, sigma, _ = levinson_durbin(s=sp500_diff, nlags=M)\n",
    "resid = pd.Series(y - x @ ar_coeff)\n",
    "\n",
    "reflection_coeff = ar_coeff[-1]\n",
    "cov = np.array([resid.autocorr(lag=i) for i in range(1, 11)])\n",
    "\n",
    "print(f'Reflection coefficient: {reflection_coeff}')\n",
    "print(f'Covariance coefficients: {cov}')"
   ]
  },
  {
   "cell_type": "code",
   "execution_count": 9,
   "metadata": {},
   "outputs": [
    {
     "name": "stdout",
     "output_type": "stream",
     "text": [
      "Reflection coefficient: -0.18607999182760335\n",
      "Covariance coefficients: [ 0.7915239   0.61016588  0.44747918  0.32905856  0.22430906  0.12224517\n",
      "  0.03448174 -0.04191936 -0.08132558 -0.08543381]\n"
     ]
    }
   ],
   "source": [
    "# For the direct model, M = 10\n",
    "\n",
    "M = 10\n",
    "lagged = np.vstack([sp500[i:250-M-1+i] for i in range(M + 1)]).T\n",
    "x = lagged[:, 1:]\n",
    "y = lagged[:, 0]\n",
    "_, ar_coeff, _, sigma, _ = levinson_durbin(s=sp500_diff, nlags=M)\n",
    "resid = pd.Series(y - x @ ar_coeff)\n",
    "\n",
    "reflection_coeff = ar_coeff[-1]\n",
    "cov = np.array([resid.autocorr(lag=i) for i in range(1, 11)])\n",
    "\n",
    "print(f'Reflection coefficient: {reflection_coeff}')\n",
    "print(f'Covariance coefficients: {cov}')"
   ]
  },
  {
   "cell_type": "code",
   "execution_count": 10,
   "metadata": {},
   "outputs": [
    {
     "name": "stdout",
     "output_type": "stream",
     "text": [
      "Reflection coefficient: -0.43893010076607053\n",
      "Covariance coefficients: [-0.15351775 -0.39415528 -0.05181163  0.15617874  0.05112625 -0.09935494\n",
      "  0.00612662 -0.05025972 -0.01387615 -0.05110238]\n"
     ]
    }
   ],
   "source": [
    "# For the first difference model, M = 1\n",
    "\n",
    "M = 1\n",
    "lagged = np.vstack([sp500_diff[i:250-M-1+i] for i in range(M + 1)]).T\n",
    "x = lagged[:, 1:]\n",
    "y = lagged[:, 0]\n",
    "_, ar_coeff, _, sigma, _ = levinson_durbin(s=sp500_diff, nlags=M)\n",
    "resid = pd.Series(y - x @ ar_coeff)\n",
    "\n",
    "reflection_coeff = ar_coeff[-1]\n",
    "cov = np.array([resid.autocorr(lag=i) for i in range(1, 11)])\n",
    "\n",
    "print(f'Reflection coefficient: {reflection_coeff}')\n",
    "print(f'Covariance coefficients: {cov}')"
   ]
  },
  {
   "cell_type": "code",
   "execution_count": 11,
   "metadata": {},
   "outputs": [
    {
     "name": "stdout",
     "output_type": "stream",
     "text": [
      "Reflection coefficient: -0.18607999182760335\n",
      "Covariance coefficients: [-0.06918262 -0.04577444 -0.05501915 -0.03831847 -0.0117778  -0.06144773\n",
      " -0.03576841 -0.09111944 -0.08440679 -0.05051641]\n"
     ]
    }
   ],
   "source": [
    "# For the first difference model, M = 10\n",
    "\n",
    "M = 10\n",
    "lagged = np.vstack([sp500_diff[i:250-M-1+i] for i in range(M + 1)]).T\n",
    "x = lagged[:, 1:]\n",
    "y = lagged[:, 0]\n",
    "_, ar_coeff, _, sigma, _ = levinson_durbin(s=sp500_diff, nlags=M)\n",
    "resid = pd.Series(y - x @ ar_coeff)\n",
    "\n",
    "reflection_coeff = ar_coeff[-1]\n",
    "cov = np.array([resid.autocorr(lag=i) for i in range(1, 11)])\n",
    "\n",
    "print(f'Reflection coefficient: {reflection_coeff}')\n",
    "print(f'Covariance coefficients: {cov}')"
   ]
  },
  {
   "cell_type": "markdown",
   "metadata": {},
   "source": [
    "## Part (f)"
   ]
  },
  {
   "cell_type": "code",
   "execution_count": 12,
   "metadata": {},
   "outputs": [],
   "source": [
    "# Taken from https://www.statsmodels.org/dev/_modules/statsmodels/stats/moment_helpers.html\n",
    "def mnc2cum(mnc):\n",
    "    '''convert non-central moments to cumulants\n",
    "    recursive formula produces as many cumulants as moments\n",
    "\n",
    "    http://en.wikipedia.org/wiki/Cumulant#Cumulants_and_moments\n",
    "    '''\n",
    "    mnc = [1] + list(mnc)\n",
    "    kappa = [1]\n",
    "    for nn,m in enumerate(mnc[1:]):\n",
    "        n = nn+1\n",
    "        kappa.append(m)\n",
    "        for k in range(1,n):\n",
    "            kappa[n] -= comb(n-1,k-1,exact=1) * kappa[k]*mnc[n-k]\n",
    "\n",
    "    return kappa[1:]"
   ]
  },
  {
   "cell_type": "code",
   "execution_count": 13,
   "metadata": {
    "scrolled": true
   },
   "outputs": [
    {
     "name": "stdout",
     "output_type": "stream",
     "text": [
      "Kurtosis: 1.3075291165509402\n",
      "Cumulants: [2.4711531716496534e-07, 1.8642644171130766e-07, 1.7091544675485145e-09, 3.459686707173499e-10]\n"
     ]
    }
   ],
   "source": [
    "# Kurtosis is not close to 3, which would be expected for a Gaussian variable.\n",
    "# It looks like the residuals are not Gaussian!\n",
    "kurt = kurtosis(resid)\n",
    "non_central_moments = [np.mean(resid**k) for k in range(3, 7)]\n",
    "cumul = mnc2cum(non_central_moments)\n",
    "\n",
    "print(f'Kurtosis: {kurt}')\n",
    "print(f'Cumulants: {cumul}')"
   ]
  },
  {
   "cell_type": "code",
   "execution_count": null,
   "metadata": {},
   "outputs": [],
   "source": []
  }
 ],
 "metadata": {
  "kernelspec": {
   "display_name": "Python 3",
   "language": "python",
   "name": "python3"
  },
  "language_info": {
   "codemirror_mode": {
    "name": "ipython",
    "version": 3
   },
   "file_extension": ".py",
   "mimetype": "text/x-python",
   "name": "python",
   "nbconvert_exporter": "python",
   "pygments_lexer": "ipython3",
   "version": "3.6.7"
  }
 },
 "nbformat": 4,
 "nbformat_minor": 2
}
