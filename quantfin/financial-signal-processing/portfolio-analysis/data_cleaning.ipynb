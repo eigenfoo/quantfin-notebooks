{
 "cells": [
  {
   "cell_type": "markdown",
   "metadata": {},
   "source": [
    "# Data Cleaning\n",
    "\n",
    "George Ho"
   ]
  },
  {
   "cell_type": "code",
   "execution_count": 1,
   "metadata": {},
   "outputs": [],
   "source": [
    "import numpy as np\n",
    "import pandas as pd"
   ]
  },
  {
   "cell_type": "markdown",
   "metadata": {},
   "source": [
    "## Fama-French Industrial Portfolio Data"
   ]
  },
  {
   "cell_type": "code",
   "execution_count": 2,
   "metadata": {},
   "outputs": [
    {
     "name": "stdout",
     "output_type": "stream",
     "text": [
      "No missing data!\n"
     ]
    }
   ],
   "source": [
    "# Only read from the 24278th line onward, skipping the last row\n",
    "# (a.k.a. only the data for the equal-weighted portfolios)\n",
    "ff = pd.read_csv('48_Industry_Portfolios_daily.csv',\n",
    "                 skiprows=24278, skipfooter=1, index_col=0,\n",
    "                 parse_dates=True, engine='python')\n",
    "\n",
    "# From the years 2000 to 2016. Had to skip some weekends.\n",
    "ff = ff.loc['2000-01-03':'2016-12-30']\n",
    "\n",
    "# Check for missing data\n",
    "ff = ff.replace(-99.99, np.nan)\n",
    "ff = ff.replace(-999, np.nan)\n",
    "msg = ('Data missing' if ff.isna().any().any()\n",
    "       else 'No missing data!')\n",
    "print(msg)"
   ]
  },
  {
   "cell_type": "code",
   "execution_count": 3,
   "metadata": {
    "scrolled": true
   },
   "outputs": [
    {
     "data": {
      "text/html": [
       "<div>\n",
       "<style scoped>\n",
       "    .dataframe tbody tr th:only-of-type {\n",
       "        vertical-align: middle;\n",
       "    }\n",
       "\n",
       "    .dataframe tbody tr th {\n",
       "        vertical-align: top;\n",
       "    }\n",
       "\n",
       "    .dataframe thead th {\n",
       "        text-align: right;\n",
       "    }\n",
       "</style>\n",
       "<table border=\"1\" class=\"dataframe\">\n",
       "  <thead>\n",
       "    <tr style=\"text-align: right;\">\n",
       "      <th></th>\n",
       "      <th>Agric</th>\n",
       "      <th>Food</th>\n",
       "      <th>Soda</th>\n",
       "      <th>Beer</th>\n",
       "      <th>Smoke</th>\n",
       "      <th>Toys</th>\n",
       "      <th>Fun</th>\n",
       "      <th>Books</th>\n",
       "      <th>Hshld</th>\n",
       "      <th>Clths</th>\n",
       "      <th>...</th>\n",
       "      <th>Boxes</th>\n",
       "      <th>Trans</th>\n",
       "      <th>Whlsl</th>\n",
       "      <th>Rtail</th>\n",
       "      <th>Meals</th>\n",
       "      <th>Banks</th>\n",
       "      <th>Insur</th>\n",
       "      <th>RlEst</th>\n",
       "      <th>Fin</th>\n",
       "      <th>Other</th>\n",
       "    </tr>\n",
       "  </thead>\n",
       "  <tbody>\n",
       "    <tr>\n",
       "      <th>2000-01-03</th>\n",
       "      <td>-2.13</td>\n",
       "      <td>0.06</td>\n",
       "      <td>0.00</td>\n",
       "      <td>0.37</td>\n",
       "      <td>0.61</td>\n",
       "      <td>1.42</td>\n",
       "      <td>0.79</td>\n",
       "      <td>0.31</td>\n",
       "      <td>-0.62</td>\n",
       "      <td>0.59</td>\n",
       "      <td>...</td>\n",
       "      <td>-0.51</td>\n",
       "      <td>-0.45</td>\n",
       "      <td>1.96</td>\n",
       "      <td>-0.54</td>\n",
       "      <td>-0.95</td>\n",
       "      <td>-1.26</td>\n",
       "      <td>-0.92</td>\n",
       "      <td>-0.22</td>\n",
       "      <td>-0.85</td>\n",
       "      <td>2.06</td>\n",
       "    </tr>\n",
       "    <tr>\n",
       "      <th>2000-01-04</th>\n",
       "      <td>-1.79</td>\n",
       "      <td>-1.30</td>\n",
       "      <td>-1.63</td>\n",
       "      <td>0.21</td>\n",
       "      <td>-1.36</td>\n",
       "      <td>-0.06</td>\n",
       "      <td>-1.26</td>\n",
       "      <td>-1.88</td>\n",
       "      <td>-1.41</td>\n",
       "      <td>-1.59</td>\n",
       "      <td>...</td>\n",
       "      <td>-0.90</td>\n",
       "      <td>-1.46</td>\n",
       "      <td>-2.00</td>\n",
       "      <td>-1.68</td>\n",
       "      <td>-1.26</td>\n",
       "      <td>-1.92</td>\n",
       "      <td>-1.76</td>\n",
       "      <td>-0.80</td>\n",
       "      <td>-1.40</td>\n",
       "      <td>-1.78</td>\n",
       "    </tr>\n",
       "    <tr>\n",
       "      <th>2000-01-05</th>\n",
       "      <td>1.71</td>\n",
       "      <td>0.63</td>\n",
       "      <td>0.37</td>\n",
       "      <td>1.39</td>\n",
       "      <td>0.24</td>\n",
       "      <td>-0.28</td>\n",
       "      <td>0.54</td>\n",
       "      <td>0.82</td>\n",
       "      <td>1.11</td>\n",
       "      <td>0.93</td>\n",
       "      <td>...</td>\n",
       "      <td>-0.93</td>\n",
       "      <td>1.02</td>\n",
       "      <td>1.54</td>\n",
       "      <td>0.62</td>\n",
       "      <td>2.10</td>\n",
       "      <td>0.27</td>\n",
       "      <td>0.40</td>\n",
       "      <td>0.89</td>\n",
       "      <td>0.14</td>\n",
       "      <td>0.62</td>\n",
       "    </tr>\n",
       "    <tr>\n",
       "      <th>2000-01-06</th>\n",
       "      <td>1.93</td>\n",
       "      <td>0.37</td>\n",
       "      <td>2.71</td>\n",
       "      <td>1.15</td>\n",
       "      <td>0.47</td>\n",
       "      <td>0.03</td>\n",
       "      <td>-0.71</td>\n",
       "      <td>0.41</td>\n",
       "      <td>0.36</td>\n",
       "      <td>0.22</td>\n",
       "      <td>...</td>\n",
       "      <td>-0.18</td>\n",
       "      <td>0.93</td>\n",
       "      <td>1.22</td>\n",
       "      <td>-0.32</td>\n",
       "      <td>0.07</td>\n",
       "      <td>0.59</td>\n",
       "      <td>0.69</td>\n",
       "      <td>0.25</td>\n",
       "      <td>-0.08</td>\n",
       "      <td>-0.24</td>\n",
       "    </tr>\n",
       "    <tr>\n",
       "      <th>2000-01-07</th>\n",
       "      <td>1.15</td>\n",
       "      <td>0.87</td>\n",
       "      <td>1.37</td>\n",
       "      <td>2.40</td>\n",
       "      <td>1.80</td>\n",
       "      <td>2.17</td>\n",
       "      <td>0.96</td>\n",
       "      <td>0.49</td>\n",
       "      <td>1.84</td>\n",
       "      <td>0.55</td>\n",
       "      <td>...</td>\n",
       "      <td>-2.03</td>\n",
       "      <td>1.85</td>\n",
       "      <td>1.91</td>\n",
       "      <td>1.36</td>\n",
       "      <td>0.84</td>\n",
       "      <td>0.58</td>\n",
       "      <td>2.10</td>\n",
       "      <td>0.33</td>\n",
       "      <td>0.82</td>\n",
       "      <td>3.81</td>\n",
       "    </tr>\n",
       "  </tbody>\n",
       "</table>\n",
       "<p>5 rows × 48 columns</p>\n",
       "</div>"
      ],
      "text/plain": [
       "            Agric  Food   Soda   Beer   Smoke  Toys   Fun    Books  Hshld  \\\n",
       "2000-01-03  -2.13   0.06   0.00   0.37   0.61   1.42   0.79   0.31  -0.62   \n",
       "2000-01-04  -1.79  -1.30  -1.63   0.21  -1.36  -0.06  -1.26  -1.88  -1.41   \n",
       "2000-01-05   1.71   0.63   0.37   1.39   0.24  -0.28   0.54   0.82   1.11   \n",
       "2000-01-06   1.93   0.37   2.71   1.15   0.47   0.03  -0.71   0.41   0.36   \n",
       "2000-01-07   1.15   0.87   1.37   2.40   1.80   2.17   0.96   0.49   1.84   \n",
       "\n",
       "            Clths  ...    Boxes  Trans  Whlsl  Rtail  Meals  Banks  Insur  \\\n",
       "2000-01-03   0.59  ...    -0.51  -0.45   1.96  -0.54  -0.95  -1.26  -0.92   \n",
       "2000-01-04  -1.59  ...    -0.90  -1.46  -2.00  -1.68  -1.26  -1.92  -1.76   \n",
       "2000-01-05   0.93  ...    -0.93   1.02   1.54   0.62   2.10   0.27   0.40   \n",
       "2000-01-06   0.22  ...    -0.18   0.93   1.22  -0.32   0.07   0.59   0.69   \n",
       "2000-01-07   0.55  ...    -2.03   1.85   1.91   1.36   0.84   0.58   2.10   \n",
       "\n",
       "            RlEst  Fin    Other  \n",
       "2000-01-03  -0.22  -0.85   2.06  \n",
       "2000-01-04  -0.80  -1.40  -1.78  \n",
       "2000-01-05   0.89   0.14   0.62  \n",
       "2000-01-06   0.25  -0.08  -0.24  \n",
       "2000-01-07   0.33   0.82   3.81  \n",
       "\n",
       "[5 rows x 48 columns]"
      ]
     },
     "execution_count": 3,
     "metadata": {},
     "output_type": "execute_result"
    }
   ],
   "source": [
    "ff.head()"
   ]
  },
  {
   "cell_type": "markdown",
   "metadata": {},
   "source": [
    "## LIBOR Data\n",
    "\n",
    "Data downloaded from https://fred.stlouisfed.org/series/USD3MTD156N, from the relevant time period."
   ]
  },
  {
   "cell_type": "code",
   "execution_count": 4,
   "metadata": {},
   "outputs": [
    {
     "name": "stdout",
     "output_type": "stream",
     "text": [
      "No missing data!\n"
     ]
    }
   ],
   "source": [
    "libor = (pd.read_csv('libor.csv', index_col=0, parse_dates=True)\n",
    "           .squeeze())\n",
    "\n",
    "# Coerce data to numeric values. Non-numeric data becomes NaNs.\n",
    "libor = pd.to_numeric(libor, errors='coerce')\n",
    "\n",
    "# Forward-fill missing values\n",
    "libor = libor.fillna(method='ffill')\n",
    "\n",
    "# Check for missing data\n",
    "msg = ('Data missing!' if libor.isna().any()\n",
    "       else 'No missing data!')\n",
    "print(msg)"
   ]
  },
  {
   "cell_type": "code",
   "execution_count": 5,
   "metadata": {},
   "outputs": [],
   "source": [
    "def three_month_to_daily(x, N=63):\n",
    "    '''\n",
    "    Convert three-month (i.e. quarterly) interest rates to\n",
    "    daily interest rates. A quarter is roughly 63 days.\n",
    "    '''\n",
    "    return 100*((1 + x/100)**(1/N) - 1)"
   ]
  },
  {
   "cell_type": "code",
   "execution_count": 6,
   "metadata": {},
   "outputs": [],
   "source": [
    "libor = three_month_to_daily(libor)"
   ]
  },
  {
   "cell_type": "code",
   "execution_count": 7,
   "metadata": {
    "scrolled": false
   },
   "outputs": [
    {
     "data": {
      "text/plain": [
       "DATE\n",
       "2000-01-04    0.093170\n",
       "2000-01-05    0.092983\n",
       "2000-01-06    0.092983\n",
       "2000-01-07    0.092983\n",
       "2000-01-10    0.092927\n",
       "Name: USD3MTD156N, dtype: float64"
      ]
     },
     "execution_count": 7,
     "metadata": {},
     "output_type": "execute_result"
    }
   ],
   "source": [
    "libor.head()"
   ]
  },
  {
   "cell_type": "markdown",
   "metadata": {},
   "source": [
    "## S&P 500 Data\n",
    "\n",
    "Data downloaded from https://finance.yahoo.com/quote/%5EGSPC/"
   ]
  },
  {
   "cell_type": "code",
   "execution_count": 8,
   "metadata": {},
   "outputs": [
    {
     "name": "stdout",
     "output_type": "stream",
     "text": [
      "No missing data!\n"
     ]
    }
   ],
   "source": [
    "sp500 = pd.read_csv('sp500.csv', index_col=0, parse_dates=True)\n",
    "\n",
    "# For returns, take the percent change of the opening prices.\n",
    "sp500 = sp500['Open'].pct_change()\n",
    "\n",
    "# Coerce data to numeric values. Non-numeric data becomes NaNs.\n",
    "sp500 = pd.to_numeric(sp500, errors='coerce')\n",
    "\n",
    "# Forward-fill missing values\n",
    "sp500 = sp500.fillna(method='ffill')\n",
    "\n",
    "# We still have one last NaN: the first day (which is NaN\n",
    "# because we computed percent change). Backfill for this one.\n",
    "sp500 = sp500.fillna(method='bfill')\n",
    "\n",
    "# Check for missing data\n",
    "msg = ('Data missing' if sp500.isna().any()\n",
    "       else 'No missing data!')\n",
    "print(msg)"
   ]
  },
  {
   "cell_type": "code",
   "execution_count": 9,
   "metadata": {},
   "outputs": [
    {
     "data": {
      "text/plain": [
       "Date\n",
       "2000-01-03   -0.009549\n",
       "2000-01-04   -0.009549\n",
       "2000-01-05   -0.038345\n",
       "2000-01-06    0.001922\n",
       "2000-01-07    0.000956\n",
       "Name: Open, dtype: float64"
      ]
     },
     "execution_count": 9,
     "metadata": {},
     "output_type": "execute_result"
    }
   ],
   "source": [
    "sp500.head()"
   ]
  },
  {
   "cell_type": "markdown",
   "metadata": {},
   "source": [
    "## Aggregate Data into a Single DataFrame"
   ]
  },
  {
   "cell_type": "code",
   "execution_count": 10,
   "metadata": {},
   "outputs": [],
   "source": [
    "df = ff\n",
    "df['LIBOR'] = libor\n",
    "df['SP500'] = sp500\n",
    "\n",
    "# Putting all our data together, we see that we are missing LIBOR\n",
    "# data for the very first day. This is the only missing datapoint.\n",
    "# Backfill for this.\n",
    "df = df.fillna(method='bfill')"
   ]
  },
  {
   "cell_type": "code",
   "execution_count": 11,
   "metadata": {},
   "outputs": [
    {
     "name": "stdout",
     "output_type": "stream",
     "text": [
      "No missing data!\n"
     ]
    }
   ],
   "source": [
    "msg = ('Data missing!' if df.isna().any().any()\n",
    "       else 'No missing data!')\n",
    "print(msg)"
   ]
  },
  {
   "cell_type": "code",
   "execution_count": 12,
   "metadata": {},
   "outputs": [
    {
     "data": {
      "text/html": [
       "<div>\n",
       "<style scoped>\n",
       "    .dataframe tbody tr th:only-of-type {\n",
       "        vertical-align: middle;\n",
       "    }\n",
       "\n",
       "    .dataframe tbody tr th {\n",
       "        vertical-align: top;\n",
       "    }\n",
       "\n",
       "    .dataframe thead th {\n",
       "        text-align: right;\n",
       "    }\n",
       "</style>\n",
       "<table border=\"1\" class=\"dataframe\">\n",
       "  <thead>\n",
       "    <tr style=\"text-align: right;\">\n",
       "      <th></th>\n",
       "      <th>Agric</th>\n",
       "      <th>Food</th>\n",
       "      <th>Soda</th>\n",
       "      <th>Beer</th>\n",
       "      <th>Smoke</th>\n",
       "      <th>Toys</th>\n",
       "      <th>Fun</th>\n",
       "      <th>Books</th>\n",
       "      <th>Hshld</th>\n",
       "      <th>Clths</th>\n",
       "      <th>...</th>\n",
       "      <th>Whlsl</th>\n",
       "      <th>Rtail</th>\n",
       "      <th>Meals</th>\n",
       "      <th>Banks</th>\n",
       "      <th>Insur</th>\n",
       "      <th>RlEst</th>\n",
       "      <th>Fin</th>\n",
       "      <th>Other</th>\n",
       "      <th>LIBOR</th>\n",
       "      <th>SP500</th>\n",
       "    </tr>\n",
       "  </thead>\n",
       "  <tbody>\n",
       "    <tr>\n",
       "      <th>2000-01-03</th>\n",
       "      <td>-2.13</td>\n",
       "      <td>0.06</td>\n",
       "      <td>0.00</td>\n",
       "      <td>0.37</td>\n",
       "      <td>0.61</td>\n",
       "      <td>1.42</td>\n",
       "      <td>0.79</td>\n",
       "      <td>0.31</td>\n",
       "      <td>-0.62</td>\n",
       "      <td>0.59</td>\n",
       "      <td>...</td>\n",
       "      <td>1.96</td>\n",
       "      <td>-0.54</td>\n",
       "      <td>-0.95</td>\n",
       "      <td>-1.26</td>\n",
       "      <td>-0.92</td>\n",
       "      <td>-0.22</td>\n",
       "      <td>-0.85</td>\n",
       "      <td>2.06</td>\n",
       "      <td>0.093170</td>\n",
       "      <td>-0.009549</td>\n",
       "    </tr>\n",
       "    <tr>\n",
       "      <th>2000-01-04</th>\n",
       "      <td>-1.79</td>\n",
       "      <td>-1.30</td>\n",
       "      <td>-1.63</td>\n",
       "      <td>0.21</td>\n",
       "      <td>-1.36</td>\n",
       "      <td>-0.06</td>\n",
       "      <td>-1.26</td>\n",
       "      <td>-1.88</td>\n",
       "      <td>-1.41</td>\n",
       "      <td>-1.59</td>\n",
       "      <td>...</td>\n",
       "      <td>-2.00</td>\n",
       "      <td>-1.68</td>\n",
       "      <td>-1.26</td>\n",
       "      <td>-1.92</td>\n",
       "      <td>-1.76</td>\n",
       "      <td>-0.80</td>\n",
       "      <td>-1.40</td>\n",
       "      <td>-1.78</td>\n",
       "      <td>0.093170</td>\n",
       "      <td>-0.009549</td>\n",
       "    </tr>\n",
       "    <tr>\n",
       "      <th>2000-01-05</th>\n",
       "      <td>1.71</td>\n",
       "      <td>0.63</td>\n",
       "      <td>0.37</td>\n",
       "      <td>1.39</td>\n",
       "      <td>0.24</td>\n",
       "      <td>-0.28</td>\n",
       "      <td>0.54</td>\n",
       "      <td>0.82</td>\n",
       "      <td>1.11</td>\n",
       "      <td>0.93</td>\n",
       "      <td>...</td>\n",
       "      <td>1.54</td>\n",
       "      <td>0.62</td>\n",
       "      <td>2.10</td>\n",
       "      <td>0.27</td>\n",
       "      <td>0.40</td>\n",
       "      <td>0.89</td>\n",
       "      <td>0.14</td>\n",
       "      <td>0.62</td>\n",
       "      <td>0.092983</td>\n",
       "      <td>-0.038345</td>\n",
       "    </tr>\n",
       "    <tr>\n",
       "      <th>2000-01-06</th>\n",
       "      <td>1.93</td>\n",
       "      <td>0.37</td>\n",
       "      <td>2.71</td>\n",
       "      <td>1.15</td>\n",
       "      <td>0.47</td>\n",
       "      <td>0.03</td>\n",
       "      <td>-0.71</td>\n",
       "      <td>0.41</td>\n",
       "      <td>0.36</td>\n",
       "      <td>0.22</td>\n",
       "      <td>...</td>\n",
       "      <td>1.22</td>\n",
       "      <td>-0.32</td>\n",
       "      <td>0.07</td>\n",
       "      <td>0.59</td>\n",
       "      <td>0.69</td>\n",
       "      <td>0.25</td>\n",
       "      <td>-0.08</td>\n",
       "      <td>-0.24</td>\n",
       "      <td>0.092983</td>\n",
       "      <td>0.001922</td>\n",
       "    </tr>\n",
       "    <tr>\n",
       "      <th>2000-01-07</th>\n",
       "      <td>1.15</td>\n",
       "      <td>0.87</td>\n",
       "      <td>1.37</td>\n",
       "      <td>2.40</td>\n",
       "      <td>1.80</td>\n",
       "      <td>2.17</td>\n",
       "      <td>0.96</td>\n",
       "      <td>0.49</td>\n",
       "      <td>1.84</td>\n",
       "      <td>0.55</td>\n",
       "      <td>...</td>\n",
       "      <td>1.91</td>\n",
       "      <td>1.36</td>\n",
       "      <td>0.84</td>\n",
       "      <td>0.58</td>\n",
       "      <td>2.10</td>\n",
       "      <td>0.33</td>\n",
       "      <td>0.82</td>\n",
       "      <td>3.81</td>\n",
       "      <td>0.092983</td>\n",
       "      <td>0.000956</td>\n",
       "    </tr>\n",
       "  </tbody>\n",
       "</table>\n",
       "<p>5 rows × 50 columns</p>\n",
       "</div>"
      ],
      "text/plain": [
       "            Agric  Food   Soda   Beer   Smoke  Toys   Fun    Books  Hshld  \\\n",
       "2000-01-03  -2.13   0.06   0.00   0.37   0.61   1.42   0.79   0.31  -0.62   \n",
       "2000-01-04  -1.79  -1.30  -1.63   0.21  -1.36  -0.06  -1.26  -1.88  -1.41   \n",
       "2000-01-05   1.71   0.63   0.37   1.39   0.24  -0.28   0.54   0.82   1.11   \n",
       "2000-01-06   1.93   0.37   2.71   1.15   0.47   0.03  -0.71   0.41   0.36   \n",
       "2000-01-07   1.15   0.87   1.37   2.40   1.80   2.17   0.96   0.49   1.84   \n",
       "\n",
       "            Clths    ...     Whlsl  Rtail  Meals  Banks  Insur  RlEst  Fin    \\\n",
       "2000-01-03   0.59    ...      1.96  -0.54  -0.95  -1.26  -0.92  -0.22  -0.85   \n",
       "2000-01-04  -1.59    ...     -2.00  -1.68  -1.26  -1.92  -1.76  -0.80  -1.40   \n",
       "2000-01-05   0.93    ...      1.54   0.62   2.10   0.27   0.40   0.89   0.14   \n",
       "2000-01-06   0.22    ...      1.22  -0.32   0.07   0.59   0.69   0.25  -0.08   \n",
       "2000-01-07   0.55    ...      1.91   1.36   0.84   0.58   2.10   0.33   0.82   \n",
       "\n",
       "            Other     LIBOR     SP500  \n",
       "2000-01-03   2.06  0.093170 -0.009549  \n",
       "2000-01-04  -1.78  0.093170 -0.009549  \n",
       "2000-01-05   0.62  0.092983 -0.038345  \n",
       "2000-01-06  -0.24  0.092983  0.001922  \n",
       "2000-01-07   3.81  0.092983  0.000956  \n",
       "\n",
       "[5 rows x 50 columns]"
      ]
     },
     "execution_count": 12,
     "metadata": {},
     "output_type": "execute_result"
    }
   ],
   "source": [
    "df.head()"
   ]
  },
  {
   "cell_type": "markdown",
   "metadata": {},
   "source": [
    "## Save Data by Year"
   ]
  },
  {
   "cell_type": "code",
   "execution_count": 13,
   "metadata": {},
   "outputs": [],
   "source": [
    "for yr in range(2000, 2017):\n",
    "    df.loc[df.index.year == yr].to_csv('{}_data.csv'.format(yr))"
   ]
  },
  {
   "cell_type": "code",
   "execution_count": null,
   "metadata": {},
   "outputs": [],
   "source": []
  }
 ],
 "metadata": {
  "kernelspec": {
   "display_name": "Python 3",
   "language": "python",
   "name": "python3"
  },
  "language_info": {
   "codemirror_mode": {
    "name": "ipython",
    "version": 3
   },
   "file_extension": ".py",
   "mimetype": "text/x-python",
   "name": "python",
   "nbconvert_exporter": "python",
   "pygments_lexer": "ipython3",
   "version": "3.6.5"
  }
 },
 "nbformat": 4,
 "nbformat_minor": 2
}
