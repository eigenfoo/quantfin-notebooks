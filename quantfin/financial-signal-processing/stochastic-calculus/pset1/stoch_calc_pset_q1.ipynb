{
 "cells": [
  {
   "cell_type": "markdown",
   "metadata": {},
   "source": [
    "# Stochastic Calculus Problem Set I: Question 1"
   ]
  },
  {
   "cell_type": "code",
   "execution_count": 1,
   "metadata": {},
   "outputs": [],
   "source": [
    "import numpy as np\n",
    "import pandas as pd\n",
    "from itertools import product"
   ]
  },
  {
   "cell_type": "code",
   "execution_count": 2,
   "metadata": {},
   "outputs": [],
   "source": [
    "# As specified in question setup and part (e)\n",
    "u = 1.005\n",
    "d = 1.002\n",
    "r = 0.003\n",
    "p_1 = 0.4\n",
    "p_2 = 0.6\n",
    "N = 100\n",
    "L = 1000\n",
    "S_0 = 1\n",
    "\n",
    "# Assert that model is arbitrage-free\n",
    "assert d < 1+r, 'd >= 1+r. This model is not arbitrage-free.'\n",
    "assert 1+r < u, '1+r >= u. This model is not arbitrage-free.'"
   ]
  },
  {
   "cell_type": "markdown",
   "metadata": {},
   "source": [
    "## Part (a)\n",
    "\n",
    "For the binomial asset pricing model, $$ S_n = (\\prod_{i=1}^{N}{y_i}) S_0 $$\n",
    "\n",
    "where $y_i = u$ if the result of the $i$th coin toss is heads or $y_i = d$ if the result of the $i$th coin toss is tails.\n",
    "\n",
    "Let $$ R_n = \\log(\\frac{S_n}{S_0}) $$\n",
    "\n",
    "Then,\n",
    "\n",
    "$$ R_n = \\sum_{i=1}^{N}{\\log y_i} $$\n",
    "\n",
    "$$ \\implies R_n = (\\log u - \\log d)\\sum_{i=1}^{N}{Y_n} + n\\log d$$\n",
    "\n",
    "where $Y_n \\sim B(n, p)$.\n",
    "\n",
    "Thus,\n",
    "\n",
    "$$ E(R_n) = (\\log u - \\log d)(np) + n\\log(d) = n(p\\log u + (1-p)\\log d) $$\n",
    "\n",
    "and\n",
    "\n",
    "$$ Var(R_n) = (\\log u - \\log d)^2 np(1-p) $$"
   ]
  },
  {
   "cell_type": "markdown",
   "metadata": {},
   "source": [
    "## Part (b)"
   ]
  },
  {
   "cell_type": "code",
   "execution_count": 3,
   "metadata": {},
   "outputs": [],
   "source": [
    "def risk_neutral_probabilities(u, d, r):\n",
    "    '''\n",
    "    Computes risk neutral probabilities from binomial\n",
    "    model parameters (u and d) and risk-free rate (r).\n",
    "    '''\n",
    "    p_tilde = ((1+r) - d) / (u - d)\n",
    "    q_tilde = (u - (1+r)) / (u - d)\n",
    "    return p_tilde, q_tilde\n",
    "\n",
    "\n",
    "p_tilde, q_tilde = risk_neutral_probabilities(u, d, r)"
   ]
  },
  {
   "cell_type": "markdown",
   "metadata": {},
   "source": [
    "## Part (c)\n",
    "\n",
    "Modified in email. This question now contains code to compute $\\Delta_n$ and $X_n$ given a path $\\omega_n$."
   ]
  },
  {
   "cell_type": "code",
   "execution_count": 4,
   "metadata": {},
   "outputs": [],
   "source": [
    "def stock_value(path):\n",
    "    '''\n",
    "    Computes the value of a stock given some path\n",
    "    (a NumPy array of 0s and 1s).\n",
    "    Returns the value of the stock at time N.\n",
    "    '''\n",
    "    return S_0 * np.prod((u - d)*path + d)\n",
    "\n",
    "\n",
    "path = np.random.randint(low=0, high=2, size=N)"
   ]
  },
  {
   "cell_type": "code",
   "execution_count": 5,
   "metadata": {},
   "outputs": [],
   "source": [
    "def portfolio_from_path(omega_n, derivative_value, stock_value):\n",
    "    '''\n",
    "    Given a path omega_n, computes the delta_n and X_n.\n",
    "    '''\n",
    "    heads_case = np.append(omega_n, 1)\n",
    "    tails_case = np.append(omega_n, 0)\n",
    "    numerator = derivative_value(heads_case) - derivative_value(tails_case)\n",
    "    denominator = stock_value(heads_case) - stock_value(tails_case)\n",
    "    delta_n = numerator / denominator\n",
    "    X_n = derivative_value(omega_n)  # X_n = V_n almost surely\n",
    "    return delta_n, X_n"
   ]
  },
  {
   "cell_type": "markdown",
   "metadata": {},
   "source": [
    "## Part (d)"
   ]
  },
  {
   "cell_type": "code",
   "execution_count": 6,
   "metadata": {},
   "outputs": [],
   "source": [
    "def exotic_derivative(path):\n",
    "    return max(S_0 * np.cumprod((u-d)*path + d))"
   ]
  },
  {
   "cell_type": "code",
   "execution_count": 7,
   "metadata": {},
   "outputs": [],
   "source": [
    "def european_call(paths, strike_price):\n",
    "    # If there is only one path, coerce to 2D\n",
    "    if len(paths.shape) == 1:\n",
    "        paths = np.atleast_2d(paths)\n",
    "    S_N = (S_0 * np.cumprod((u-d)*paths + d, axis=-1))[:, -1]\n",
    "    out = S_N.copy()\n",
    "    out[S_N - strike_price <= 0] = 0\n",
    "    return out"
   ]
  },
  {
   "cell_type": "code",
   "execution_count": 8,
   "metadata": {},
   "outputs": [],
   "source": [
    "def european_put(paths, strike_price):\n",
    "    # If there is only one path, coerce to 2D\n",
    "    if len(paths.shape) == 1:\n",
    "        paths = np.atleast_2d(paths)\n",
    "    S_N = (S_0 * np.cumprod((u-d)*paths + d, axis=-1))[:, -1]\n",
    "    out = S_N.copy()\n",
    "    out[strike_price - S_N <= 0] = 0    \n",
    "    return out"
   ]
  },
  {
   "cell_type": "code",
   "execution_count": 9,
   "metadata": {},
   "outputs": [],
   "source": [
    "# Check that the functions work\n",
    "path = np.random.binomial(n=1, p=p_tilde, size=[100])\n",
    "_ = exotic_derivative(path)\n",
    "_ = european_call(path, 1)\n",
    "_ = european_put(path, 1)"
   ]
  },
  {
   "cell_type": "markdown",
   "metadata": {},
   "source": [
    "## Part (e)"
   ]
  },
  {
   "cell_type": "code",
   "execution_count": 10,
   "metadata": {},
   "outputs": [],
   "source": [
    "probabilities = [p_tilde, p_1, p_2]\n",
    "strike_prices = [S_0 * np.exp(N*(p*np.log(u) + (1-p)*np.log(d)))\n",
    "                 for p in probabilities]"
   ]
  },
  {
   "cell_type": "code",
   "execution_count": 11,
   "metadata": {},
   "outputs": [],
   "source": [
    "# Bernoulli(p) = B(1, p)\n",
    "paths_1 = np.random.binomial(n=1, p=p_1, size=[L, N])\n",
    "E1_discounted_VN_call = [np.mean(european_call(paths_1, K) / (1+r)**N) for K in strike_prices]\n",
    "E1_discounted_VN_put = [np.mean(european_put(paths_1, K) / (1+r)**N) for K in strike_prices]\n",
    "\n",
    "paths_2 = np.random.binomial(n=1, p=p_2, size=[L, N])\n",
    "E2_discounted_VN_call = [np.mean(european_call(paths_2, K) / (1+r)**N) for K in strike_prices]\n",
    "E2_discounted_VN_put = [np.mean(european_put(paths_2, K) / (1+r)**N) for K in strike_prices]"
   ]
  },
  {
   "cell_type": "markdown",
   "metadata": {},
   "source": [
    "## Part (f)\n",
    "\n",
    "By the martingale property, $V_0 = \\tilde{E}(\\frac{V_N}{(1+r)^N})$. But we compute $\\tilde{E}$ using a Monte Carlo approach, so we need only average."
   ]
  },
  {
   "cell_type": "code",
   "execution_count": 12,
   "metadata": {},
   "outputs": [],
   "source": [
    "paths_tilde = np.random.binomial(n=1, p=p_tilde, size=[L, N])\n",
    "Etilde_V0_call = [np.mean(european_call(paths_tilde, K) / (1+r)**N) for K in strike_prices]\n",
    "Etilde_V0_put = [np.mean(european_put(paths_tilde, K) / (1+r)**N) for K in strike_prices]"
   ]
  },
  {
   "cell_type": "markdown",
   "metadata": {},
   "source": [
    "## Part (g)\n",
    "\n",
    "Modified in email. I still don't think I really understand this..."
   ]
  },
  {
   "cell_type": "code",
   "execution_count": 13,
   "metadata": {},
   "outputs": [],
   "source": [
    "for _ in range(3):\n",
    "    path = np.random.binomial(n=1, p=1/2, size=N-3)\n",
    "    extensions = np.array(list(product([0, 1], repeat=3)))\n",
    "    extended_paths = [np.append(path, extension) for extension in extensions]\n",
    "\n",
    "    portfolio_from_path(path,\n",
    "                        lambda x: european_call(x, strike_prices[0]).item(),\n",
    "                        stock_value)"
   ]
  },
  {
   "cell_type": "markdown",
   "metadata": {},
   "source": [
    "## Part (h)"
   ]
  },
  {
   "cell_type": "code",
   "execution_count": 14,
   "metadata": {},
   "outputs": [
    {
     "data": {
      "text/html": [
       "<div>\n",
       "<style scoped>\n",
       "    .dataframe tbody tr th:only-of-type {\n",
       "        vertical-align: middle;\n",
       "    }\n",
       "\n",
       "    .dataframe tbody tr th {\n",
       "        vertical-align: top;\n",
       "    }\n",
       "\n",
       "    .dataframe thead th {\n",
       "        text-align: right;\n",
       "    }\n",
       "</style>\n",
       "<table border=\"1\" class=\"dataframe\">\n",
       "  <thead>\n",
       "    <tr style=\"text-align: right;\">\n",
       "      <th></th>\n",
       "      <th>K_tilde</th>\n",
       "      <th>K_1</th>\n",
       "      <th>K_2</th>\n",
       "    </tr>\n",
       "  </thead>\n",
       "  <tbody>\n",
       "    <tr>\n",
       "      <th>E1_discounted_VN_call</th>\n",
       "      <td>0.916551</td>\n",
       "      <td>0.488635</td>\n",
       "      <td>0.000000</td>\n",
       "    </tr>\n",
       "    <tr>\n",
       "      <th>E1_discounted_VN_put</th>\n",
       "      <td>0.103287</td>\n",
       "      <td>0.518963</td>\n",
       "      <td>1.019838</td>\n",
       "    </tr>\n",
       "    <tr>\n",
       "      <th>E2_discounted_VN_call</th>\n",
       "      <td>1.083276</td>\n",
       "      <td>1.083276</td>\n",
       "      <td>0.567470</td>\n",
       "    </tr>\n",
       "    <tr>\n",
       "      <th>E2_discounted_VN_put</th>\n",
       "      <td>0.000000</td>\n",
       "      <td>0.000000</td>\n",
       "      <td>0.502812</td>\n",
       "    </tr>\n",
       "    <tr>\n",
       "      <th>Etilde_V0_call</th>\n",
       "      <td>0.519402</td>\n",
       "      <td>0.090388</td>\n",
       "      <td>0.000000</td>\n",
       "    </tr>\n",
       "    <tr>\n",
       "      <th>Etilde_V0_put</th>\n",
       "      <td>0.481843</td>\n",
       "      <td>0.904737</td>\n",
       "      <td>1.001246</td>\n",
       "    </tr>\n",
       "  </tbody>\n",
       "</table>\n",
       "</div>"
      ],
      "text/plain": [
       "                        K_tilde       K_1       K_2\n",
       "E1_discounted_VN_call  0.916551  0.488635  0.000000\n",
       "E1_discounted_VN_put   0.103287  0.518963  1.019838\n",
       "E2_discounted_VN_call  1.083276  1.083276  0.567470\n",
       "E2_discounted_VN_put   0.000000  0.000000  0.502812\n",
       "Etilde_V0_call         0.519402  0.090388  0.000000\n",
       "Etilde_V0_put          0.481843  0.904737  1.001246"
      ]
     },
     "execution_count": 14,
     "metadata": {},
     "output_type": "execute_result"
    }
   ],
   "source": [
    "results = np.vstack([\n",
    "    E1_discounted_VN_call,\n",
    "    E1_discounted_VN_put,\n",
    "    E2_discounted_VN_call,\n",
    "    E2_discounted_VN_put,\n",
    "    Etilde_V0_call,\n",
    "    Etilde_V0_put\n",
    "])\n",
    "\n",
    "names = [\n",
    "    'E1_discounted_VN_call',\n",
    "    'E1_discounted_VN_put',\n",
    "    'E2_discounted_VN_call',\n",
    "    'E2_discounted_VN_put',\n",
    "    'Etilde_V0_call',\n",
    "    'Etilde_V0_put'\n",
    "]\n",
    "\n",
    "strikes = ['K_tilde', 'K_1', 'K_2']\n",
    "\n",
    "pd.DataFrame(data=results,\n",
    "             index=names,\n",
    "             columns=strikes)"
   ]
  },
  {
   "cell_type": "code",
   "execution_count": null,
   "metadata": {},
   "outputs": [],
   "source": []
  }
 ],
 "metadata": {
  "kernelspec": {
   "display_name": "Python 3",
   "language": "python",
   "name": "python3"
  },
  "language_info": {
   "codemirror_mode": {
    "name": "ipython",
    "version": 3
   },
   "file_extension": ".py",
   "mimetype": "text/x-python",
   "name": "python",
   "nbconvert_exporter": "python",
   "pygments_lexer": "ipython3",
   "version": "3.6.4"
  }
 },
 "nbformat": 4,
 "nbformat_minor": 2
}
